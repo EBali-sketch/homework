{
 "cells": [
  {
   "cell_type": "code",
   "execution_count": 6,
   "id": "8999d6d9",
   "metadata": {},
   "outputs": [
    {
     "name": "stdout",
     "output_type": "stream",
     "text": [
      "Eamon\n",
      "19\n",
      "99.5\n",
      "True\n",
      "green\n"
     ]
    }
   ],
   "source": [
    "name = \"Eamon\"\n",
    "age = 19\n",
    "grade = 99.5\n",
    "is_student = True \n",
    "favorite_color = \"green\"\n",
    "print(name)\n",
    "print(age)\n",
    "print(grade)\n",
    "print(is_student)\n",
    "print(favorite_color)"
   ]
  },
  {
   "cell_type": "code",
   "execution_count": 2,
   "id": "d2a7ed48",
   "metadata": {},
   "outputs": [],
   "source": [
    "name: str = \"Eamon\"\n",
    "age: int = 20\n",
    "grade: float = 99.5\n",
    "is_student: bool = True\n",
    "favorite_color: str = \"Blue\"\n"
   ]
  },
  {
   "cell_type": "code",
   "execution_count": 3,
   "id": "1974c75c",
   "metadata": {},
   "outputs": [
    {
     "name": "stdout",
     "output_type": "stream",
     "text": [
      "EAMON\n"
     ]
    }
   ],
   "source": [
    "name = name.upper()\n",
    "print(name)\n"
   ]
  },
  {
   "cell_type": "code",
   "execution_count": 5,
   "id": "e067ed5b",
   "metadata": {},
   "outputs": [
    {
     "name": "stdout",
     "output_type": "stream",
     "text": [
      "119.5\n",
      "<class 'float'>\n"
     ]
    }
   ],
   "source": [
    "result = age + grade\n",
    "print(result)\n",
    "print(type(result))"
   ]
  },
  {
   "cell_type": "code",
   "execution_count": 6,
   "id": "d5d132be",
   "metadata": {},
   "outputs": [
    {
     "name": "stdout",
     "output_type": "stream",
     "text": [
      "{'name': 'EAMON', 'age': 20, 'grade': 99.5, 'is_student': True, 'favorite_color': 'Blue'}\n"
     ]
    }
   ],
   "source": [
    "person = {\n",
    "    \"name\": name,\n",
    "    \"age\": age,\n",
    "    \"grade\": grade,\n",
    "    \"is_student\": is_student,\n",
    "    \"favorite_color\": favorite_color\n",
    "}\n",
    "print(person)"
   ]
  },
  {
   "cell_type": "code",
   "execution_count": 12,
   "id": "8fc2b398",
   "metadata": {},
   "outputs": [
    {
     "name": "stdout",
     "output_type": "stream",
     "text": [
      "My name is EAMON. I am 20 years old. My favorite color is Blue. I will get a 99.5 in this class.\n"
     ]
    }
   ],
   "source": [
    "print(f\"My name is {person['name']}. I am {person['age']} years old. My favorite color is {person['favorite_color']}. I will get a {person['grade']} in this class.\")"
   ]
  },
  {
   "cell_type": "code",
   "execution_count": null,
   "id": "c9ee1b60",
   "metadata": {},
   "outputs": [],
   "source": []
  }
 ],
 "metadata": {
  "kernelspec": {
   "display_name": "CDA101",
   "language": "python",
   "name": "python3"
  },
  "language_info": {
   "codemirror_mode": {
    "name": "ipython",
    "version": 3
   },
   "file_extension": ".py",
   "mimetype": "text/x-python",
   "name": "python",
   "nbconvert_exporter": "python",
   "pygments_lexer": "ipython3",
   "version": "3.13.5"
  }
 },
 "nbformat": 4,
 "nbformat_minor": 5
}
